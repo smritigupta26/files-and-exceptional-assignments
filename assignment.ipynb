{
  "nbformat": 4,
  "nbformat_minor": 0,
  "metadata": {
    "colab": {
      "provenance": []
    },
    "kernelspec": {
      "name": "python3",
      "display_name": "Python 3"
    },
    "language_info": {
      "name": "python"
    }
  },
  "cells": [
    {
      "cell_type": "markdown",
      "metadata": {
        "id": "15ffe45a"
      },
      "source": [
        "#FILES & EXCEPTIONAL ASSIGNMENTS\n",
        "\n",
        "#THEORATICAL QUESTIONS & ANSWERS\n",
        "\n",
        "Q1.What is the difference between interpreted and complied languages ?\n",
        "\n",
        "ANS 1 .> *INTERPRETED* VS *COMPILED* LANGUAGES\n",
        "\n",
        "**INTERPRETED**\n",
        "*   Code is executed line by line by an interpreter.\n",
        "*   Execution is generally slower because each line needs to be translated during runtime.\n",
        "*   Easier to debug as errors are found as the code runs.\n",
        "*   More flexible and platform-independent (as long as an interpreter is available).\n",
        "*   Examples: Python, JavaScript, Ruby\n",
        "\n",
        "**COMPILED**\n",
        "*   Code is translated into machine code before execution by a compiler.\n",
        "*   Execution is generally faster because the code is already translated.\n",
        "*   Debugging can be more challenging as errors might be found during compilation or runtime.\n",
        "*   Platform-dependent as the compiled code is specific to the target architecture.\n",
        "*   Examples: C, C++, Java (compiled to bytecode, then interpreted by JVM)\n",
        "---\n",
        "Q2.What is exception handling in Python?\n",
        "\n",
        "ANS 2 .> Exception handling in Python is a mechanism that allows you to deal with errors that occur during the execution of your program. These errors, called exceptions, disrupt the normal flow of the program's instructions.\n",
        "\n",
        "Python uses try, except, else, and finally blocks to handle exceptions:\n",
        "\n",
        ".Try block: This block contains the code that might raise an exception.\n",
        "except block: This block catches and handles specific exceptions that occur in the try block. You can have multiple except blocks to handle different types of exceptions.\n",
        "\n",
        ".Else block: This block is executed if no exceptions are raised in the try block.\n",
        "\n",
        ".Finally block: This block is always executed, regardless of whether an exception occurred or not. It's typically used for cleanup operations (e.g., closing files)\n",
        "\n",
        "---\n",
        "Q3.What is the purpose of the finally block in execption handling?\n",
        "\n",
        "ANS 3.> The  finally block in execption handling ensures that a specific block of code is always executed,regardless of whether an execption occurred or not.\n",
        "\n",
        "\n",
        "It's commonly used for cleanup operations like closing files or releasing resources.\n",
        "\n",
        "---\n",
        "\n",
        "Q4. What is logging in Python?\n",
        "\n",
        "ANS 4 .> Logging in Python is a way to track events that occur during the execution of a program .\n",
        "\n",
        "It's useful for debugging & monitoring applications.\n",
        "\n",
        "Python's logging modules provides a flexible way to log messages with different levels of severity.\n",
        "\n",
        "---\n",
        "\n",
        "Q5.What is the significance of the __del__ method in Python?\n",
        "\n",
        "ANS 5 .> The __del__ method is a destructor method in Python classes.\n",
        "\n",
        "It is called when an object is about to be destroyed ,allowing you to perform cleanup operations.\n",
        "\n",
        "---\n",
        "\n",
        "Q6. What is the differnece between import and from...import in Python?\n",
        "\n",
        "ANS 6 .>*IMPORT MODULE* :- Imports the whole module.You need to use the module name to access its members.\n",
        "\n",
        "EXAMPLE:-\n",
        "\n",
        "       import math\n",
        "       print(math.sqrt(6))\n",
        "\n",
        " *FROM MODULE IMPORT * :- Imports specific parts of a module\n",
        "\n",
        " EXAMPLE :-   \n",
        "\n",
        "          from math import sqrt   \n",
        "          print(sqrt(4))\n",
        "---\n",
        "\n",
        "Q7. How can you handle multiple exceptions in Python?\n",
        "\n",
        "ANS 7 .> Multiple exceptions can be handled using multiple except blocks ,each specifying a different type of exception.\n",
        "\n",
        "You can handle multiple exceptions either with multiple except blocks or using a single except with a tuple of exception types.\n",
        "\n",
        "EXAMPLE :-\n",
        "\n",
        "         try:\n",
        "            x = int(\"abc\")\n",
        "         except (ValueError , TypeError) as e:\n",
        "            print(\"Error occurred\" , e)\n",
        "\n",
        "---\n",
        "\n",
        "Q8. What is the purpose of the with statement when handling files in Python ?\n",
        "\n",
        "ANS 8 .>The with statement in Python simplifies file handling by ensuring that files are properly closed after they are used. This is crucial because it prevents resource leaks and ensures that changes made to a file are saved.\n",
        "\n",
        "EXAMPLE:-  \n",
        "      \n",
        "       with open(\"file.txt\",\"r\") as files:\n",
        "         data = file.read()\n",
        "---\n",
        "\n",
        "Q9. What is the difference between multithreading and multiprocessing?\n",
        "\n",
        "ANS 9.*Multithreading* is a technique where multiple threads are spawned by a process to do different tasks, at about the same time, just one after the other. This gives you the illusion that the threads are running in parallel, but they are actually run in a concurrent manner. In Python, the Global Interpreter Lock (GIL) prevents the threads from running simultaneously\n",
        "\n",
        "*Multiprocessing* is a technique where parallelism in its truest form is achieved. Multiple processes are run across multiple CPU cores, which do not share the resources among them. Each process can have many threads running in its own memory space. In Python, each process has its own instance of Python interpreter doing the job of executing the instructions.\n",
        "\n",
        "---\n",
        "\n",
        "Q10. What are advantages of using logging in a program ?\n",
        "\n",
        "ANS 10 .> The advantages of using logging in a program\n",
        "\n",
        "  .>Tracks exeution flow\n",
        "\n",
        "  .>Helps diagnose problems without debugging manually\n",
        "\n",
        "  .>Supports different log levels.\n",
        "\n",
        "  .>Can log to files,sockets,emails.etc\n",
        "\n",
        "---\n",
        "\n",
        "Q11. What is memory management in Python ?\n",
        "\n",
        "ANS 11 .> Memory management in Python is the process of allocating and deallocating memory for objects. Python uses a private heap to store all of its objects and data structures. The Python memory manager handles the management of this private heap.\n",
        "\n",
        "---\n",
        "\n",
        "Q12. What are the basic steps involved in exception handling in Pyhton ?\n",
        "\n",
        "ANS 12 .>Try block:\n",
        "This block encloses the code that might raise an exception. Python will attempt to execute the code within this block.\n",
        "\n",
        "Except block:\n",
        "This block follows the try block and specifies how to handle an exception if it occurs. You can have multiple except blocks to handle different types of exceptions.\n",
        "\n",
        "Else block :\n",
        "This block is executed if no exceptions are raised in the try block. It's useful for code that should run only when the try block succeeds.\n",
        "\n",
        "Finally block :\n",
        "This block always executes, whether an exception occurred or not. It's typically used for cleanup operations, such as closing files or releasing resources.\n",
        "\n",
        "Raise statement:\n",
        "This statement is used to explicitly raise an exception. You can raise built-in exceptions or define custom exceptions.\n",
        "\n",
        "---\n",
        "Q13.Why is memory management important in Python ?\n",
        "\n",
        "ANS 13 .> Memory management is crucial in Python because it ensures efficient use of system resources, preventing memory leaks, and improving performance.\n",
        "\n",
        "It is effective memory management because:\n",
        "\n",
        ".Prevents memory leaks\n",
        "\n",
        ".Improves application performance\n",
        "\n",
        ".Ensures efficient resource utilization\n",
        "\n",
        ".Helps avoid crashes due to memory exhaustion\n",
        "\n",
        "---\n",
        "\n",
        "Q14. What is the role of try and except in exception handling ?\n",
        "\n",
        "ANS 14 .> The try and except blocks are fundamental for exception handling, allowing programs to gracefully manage errors that might occur during execution.\n",
        "\n",
        "Try Block:\n",
        "\n",
        "The try block encloses the code that might potentially raise an exception.\n",
        "\n",
        "Python attempts to execute the code within the try block.\n",
        "\n",
        "If no exception occurs, the try block finishes normally, and the except block is skipped.\n",
        "\n",
        "Except Block:\n",
        "\n",
        "The except block follows the try block and specifies how to handle exceptions.\n",
        "\n",
        "If an exception occurs within the try block, Python immediately stops executing the try block and looks for a matching except block.\n",
        "\n",
        "If a matching except block is found, the code within that except block is executed.\n",
        "\n",
        "---\n",
        "\n",
        "Q15. How does Python's garbage collection system work ?\n",
        "\n",
        "ANS 15 .> Python uses a hybrid garbage collection system that combines reference counting with tracing (mark and sweep). Reference counting identifies and deallocates objects when their references drop to zero, while tracing handles cyclic references that reference counting alone cannot address.\n",
        "\n",
        "Python's garbage collection automatically cleans up any unused objects based on reference counting and object allocation and deallocation, meaning users won't have to clean these objects manually. This also helps periodically clear up memory space to help a program run more smoothly.\n",
        "\n",
        "---\n",
        "\n",
        "Q16.What is the purpose of the else block in exception handling ?\n",
        "\n",
        "ANS 16 .> The 'else' block is useful when you want to perform specific actions when no exceptions occur. It can be used, for example, to execute additional code if the 'try' block succeeds in its operation and enhances the program flow.\n",
        "\n",
        "---\n",
        "\n",
        "Q17. What are the common logging levels in Python ?\n",
        "\n",
        "ANS 17.> Python has five logging  levels with each one assigned a specific integer indicating the severity of the log:\n",
        "\n",
        "\n",
        "DEBUG(10)- Detailed info,used for diagnosing problems.\n",
        "\n",
        "INFO(20)- General info about program execution.\n",
        "\n",
        "WARNING(30)-Indicates potential issues.\n",
        "\n",
        "ERROR(40)- A serious issue that has occurred.\n",
        "\n",
        "CRITICAL(50)-A very serious error , possibly causing the program to stop.\n",
        "\n",
        "---\n",
        "\n",
        "Q18. What is the difference between os.fork() and multiprocessing in Python ?\n",
        "\n",
        "ANS 18 .> OS.FORK()-The os.fork() function in Python is used to create a new process, called a child process, which is a nearly identical copy of the calling process (the parent process). This function is primarily available on Unix-like systems.\n",
        "\n",
        "MULTIPROCESSING-Multiprocessing in Python is a technique that allows programs to run multiple processes simultaneously, effectively utilizing multiple CPU cores. It is different from multithreading, which is limited by Python's Global Interpreter Lock (GIL) and can only run one thread at a time.\n",
        "\n",
        "---\n",
        "\n",
        "Q19. What is the importance of closing a file in Pyhton ?\n",
        "\n",
        "ANS 19 .> Closing a file ensures that:\n",
        "\n",
        ".>Data is flushed to disk.\n",
        "\n",
        ".> System resources are released.\n",
        "\n",
        ".> File descriptors are freed.\n",
        "\n",
        ".> Potential data corruption is avoided.\n",
        "\n",
        ".> It ensures that all bufferred data is written to the file.\n",
        "\n",
        ".> It prevents error.\n",
        "\n",
        "---\n",
        "\n",
        "Q20.What is the difference between file.read() and file.readline() in python?\n",
        "\n",
        "ANS 20 .> *file.read()*\n",
        "\n",
        "Purpose: Reads the entire content of a file into a single string.\n",
        "\n",
        "Return Value: Returns a single string containing all the characters from the file.\n",
        "\n",
        "Memory Usage: Can be memory-intensive for large files because it loads the entire file content into memory at once.\n",
        "\n",
        "Use Cases: Suitable for smaller files or when you need the entire file content as a single string for processing.\n",
        "\n",
        "Example:\n",
        "       \n",
        "     with open(\"my_file.txt\", \"r\") as file:\n",
        "        content = file.read()\n",
        "        print(content)\n",
        "  *file.readlines()*\n",
        "Purpose: Reads all lines from a file and returns them as a list of strings.\n",
        "\n",
        "Return Value: Returns a list where each element is a string representing a line from the file, including the newline character (\\n) at the end of each line.\n",
        "\n",
        "Memory Usage: Can also be memory-intensive for large files as it loads all lines into a list in memory.\n",
        "\n",
        "Use Cases: Useful when you need to process the file line by line or work with each line as a separate item in a list.\n",
        "\n",
        "Example:  \n",
        "       \n",
        "     with open(\"my_file.txt\", \"r\") as file:\n",
        "        lines = file.readlines()\n",
        "        for line in lines:\n",
        "            print(line)\n",
        "---\n",
        "Q21.What is logging module in Python used for ?\n",
        "\n",
        "ANS 21 .> The logging module in Python is a standard library feature used for tracking events, debugging issues, and monitoring the health of applications. It provides a flexible way to record information about errors, warnings, and other events that occur during program execution.\n",
        "\n",
        "EXAMPLES :-  \n",
        "\n",
        "        import logging\n",
        "\n",
        "# Configure the logger\n",
        "    logging.basicConfig(level=logging.DEBUG, format='%(asctime)s - %(levelname)s - %(message)s')\n",
        "\n",
        "# Log messages\n",
        "    logging.debug('This is a debug message')\n",
        "    logging.info('This is an info message')\n",
        "    logging.warning('This is a warning message')\n",
        "    logging.error('This is an error message')\n",
        "    logging.critical('This is a critical message')\n",
        "\n",
        "---\n",
        "\n",
        "Q22.What is the os module in Python used for in file handling ?\n",
        "\n",
        "ANS 22 .>The os module in Python is used for file handling by providing functions to interact with the operating system and manage files and directories. It allows for tasks like creating, deleting, renaming, and listing files and directories, as well as manipulating paths.\n",
        "\n",
        "The os module provides functions to interact with the operating system,such as ;\n",
        "\n",
        ". File/directory creation amd deletion\n",
        "\n",
        ". Path manipulation\n",
        "\n",
        ". Environment variables\n",
        "\n",
        ". Process management\n",
        "\n",
        "---\n",
        "\n",
        "Q23. What are the challenges associated with memory management in Python ?\n",
        "\n",
        "ANS 23 .> Challenges included :-  \n",
        "\n",
        "*Garbage Collection*\n",
        "\n",
        "Python uses reference counting and a generational garbage collector to reclaim memory occupied by unused objects.\n",
        "\n",
        "*Memory Leaks*\n",
        "\n",
        "When objects are no longer needed but not deallocated, memory usage increases continuously.\n",
        "\n",
        "*Memory Fragmentation*\n",
        "\n",
        "Repeated allocation and deallocation of memory can lead to scattered blocks of free memory, making it hard to allocate large contiguous blocks.\n",
        "\n",
        "---\n",
        "\n",
        "Q24. How to raise an exception manually in Python ?\n",
        "\n",
        "ANS 24 .> In Python, exceptions can be raised manually using the raise keyword. This is useful for signaling error conditions or enforcing specific behavior in your code.\n",
        "\n",
        "    raise ValueError(\"Invalid input\")\n",
        "\n",
        "---\n",
        "\n",
        "Q25. Why is it important to use multithreading in certain applications?\n",
        "\n",
        "\n",
        "ANS 25 .> Multithreading in Python is crucial for applications requiring high performance and responsiveness, especially those handling I/O-bound tasks.\n",
        "\n",
        "1. Improved Performance:\n",
        "Multithreading allows multiple tasks to execute concurrently, reducing overall execution time, especially for I/O-bound operations where threads can switch while waiting for input/output.\n",
        "\n",
        "2. Enhanced Responsiveness:\n",
        "By offloading time-consuming tasks to separate threads, the main thread can remain responsive to user interface events or other critical operations.\n",
        "\n",
        "3. Efficient Resource Utilization:\n",
        "Multithreading enables better utilization of CPU resources by allowing multiple threads to execute concurrently, increasing overall system throughput.\n",
        "\n",
        "4. Handling Multiple User Requests:\n",
        "In applications like web servers, multithreading can handle multiple concurrent client requests, improving scalability and responsiveness.\n",
        "\n",
        "5. Reduced Latency:\n",
        "Multithreading can reduce the time it takes to respond to user requests, especially in real-time applications where quick reactions are essential.\n",
        "\n",
        "---\n",
        "\n",
        "\n"
      ]
    },
    {
      "cell_type": "markdown",
      "source": [],
      "metadata": {
        "id": "--yTETD-p5LM"
      }
    },
    {
      "cell_type": "markdown",
      "source": [
        "#PRACTICAL QUESTIONS AND ANSWERS\n",
        "\n",
        "Q1. How can you open a file for writing in Python and write a string to it ?"
      ],
      "metadata": {
        "id": "26lV87oZfP0J"
      }
    },
    {
      "cell_type": "code",
      "source": [
        "with open(\"file.txt\",\"w\") as file:\n",
        "  file.write(\"Hello World\")"
      ],
      "metadata": {
        "id": "ETGEp269fNKY"
      },
      "execution_count": 16,
      "outputs": []
    },
    {
      "cell_type": "code",
      "source": [
        "with open(\"file.txt\",\"r\") as file:\n",
        "  print(file.read())"
      ],
      "metadata": {
        "colab": {
          "base_uri": "https://localhost:8080/"
        },
        "id": "CTU6GFRZfNCk",
        "outputId": "a0c250f7-f670-4c5f-9c0d-a16efc735e7c"
      },
      "execution_count": 18,
      "outputs": [
        {
          "output_type": "stream",
          "name": "stdout",
          "text": [
            "Hello World\n"
          ]
        }
      ]
    },
    {
      "cell_type": "markdown",
      "source": [
        "Q2.Write a Python program to read the contents of a file and print each line."
      ],
      "metadata": {
        "id": "z6W31bmVlLI4"
      }
    },
    {
      "cell_type": "code",
      "source": [
        "with open(\"file.txt\",\"r\") as file:\n",
        "  for line in file:\n",
        "    print(line.strip())"
      ],
      "metadata": {
        "colab": {
          "base_uri": "https://localhost:8080/"
        },
        "id": "gZcmDQjIfM_9",
        "outputId": "39a85777-ce47-41ff-f4a6-1201ebd890ef"
      },
      "execution_count": 19,
      "outputs": [
        {
          "output_type": "stream",
          "name": "stdout",
          "text": [
            "Hello World\n"
          ]
        }
      ]
    },
    {
      "cell_type": "markdown",
      "source": [
        "Q3.How would you handle a case where a file doesn't exist while trying to open it for reading?"
      ],
      "metadata": {
        "id": "fZaj1vtLmURW"
      }
    },
    {
      "cell_type": "code",
      "source": [
        "try:\n",
        "  with open(\"missing_file.txt\",\"r\") as file:\n",
        "    content = file.read()\n",
        "except FileNotFoundError:\n",
        "  print(\"File not found\")"
      ],
      "metadata": {
        "colab": {
          "base_uri": "https://localhost:8080/"
        },
        "id": "ylDAWH6EfM9L",
        "outputId": "280dc9b1-16a5-4e52-c65a-7310b3b9669c"
      },
      "execution_count": 21,
      "outputs": [
        {
          "output_type": "stream",
          "name": "stdout",
          "text": [
            "File not found\n"
          ]
        }
      ]
    },
    {
      "cell_type": "markdown",
      "source": [
        "Q4.Write a python script that reads from one file and writes its content to another file."
      ],
      "metadata": {
        "id": "1iAlMirbnMou"
      }
    },
    {
      "cell_type": "code",
      "metadata": {
        "colab": {
          "base_uri": "https://localhost:8080/"
        },
        "id": "df68876f",
        "outputId": "12548284-fb0b-4d5e-9a51-8170b86239b2"
      },
      "source": [
        "# Create a source file for demonstration\n",
        "with open(\"source_file.txt\", \"w\") as source:\n",
        "    source.write(\"This is the content of the source file.\")\n",
        "    source.write(\"\\nThis is another line in the source file.\")\n",
        "\n",
        "# Read from the source file and write to the destination file\n",
        "try:\n",
        "    with open(\"source_file.txt\", \"r\") as source_file, open(\"destination_file.txt\", \"w\") as destination_file:\n",
        "        content = source_file.read()\n",
        "        destination_file.write(content)\n",
        "    print(\"Content successfully copied from source_file.txt to destination_file.txt\")\n",
        "\n",
        "except FileNotFoundError:\n",
        "    print(\"Error: source_file.txt not found.\")\n",
        "except Exception as e:\n",
        "    print(f\"An error occurred: {e}\")\n",
        "\n",
        "# Verify the content of the destination file (optional)\n",
        "try:\n",
        "    with open(\"destination_file.txt\", \"r\") as destination_file:\n",
        "        print(\"\\nContent of destination_file.txt:\")\n",
        "        print(destination_file.read())\n",
        "except FileNotFoundError:\n",
        "    print(\"Error: destination_file.txt not found.\")"
      ],
      "execution_count": 27,
      "outputs": [
        {
          "output_type": "stream",
          "name": "stdout",
          "text": [
            "Content successfully copied from source_file.txt to destination_file.txt\n",
            "\n",
            "Content of destination_file.txt:\n",
            "This is the content of the source file.\n",
            "This is another line in the source file.\n"
          ]
        }
      ]
    },
    {
      "cell_type": "markdown",
      "source": [
        "Q5.How would you catch and handle division by zero error in Python ?"
      ],
      "metadata": {
        "id": "h48D7KEkpJ6H"
      }
    },
    {
      "cell_type": "code",
      "source": [
        "try:\n",
        "  result = 10 / 0\n",
        "except ZeroDivisionError:\n",
        "  print(\"Error: Division by zero\")"
      ],
      "metadata": {
        "colab": {
          "base_uri": "https://localhost:8080/"
        },
        "id": "T4SZKF4rpJlu",
        "outputId": "a83b022f-dfb3-469a-c449-2fa35fbbb45d"
      },
      "execution_count": 28,
      "outputs": [
        {
          "output_type": "stream",
          "name": "stdout",
          "text": [
            "Error: Division by zero\n"
          ]
        }
      ]
    },
    {
      "cell_type": "markdown",
      "source": [
        "Q6.Write a Python program that logs an error message to a log file when a division by zero exception occurs."
      ],
      "metadata": {
        "id": "qTf09AYuqJhj"
      }
    },
    {
      "cell_type": "code",
      "source": [
        "import logging\n",
        "\n",
        "logging.basicConfig(filename=\"error_log.txt\", level=logging.ERROR)\n",
        "\n",
        "try:\n",
        "    result = 10 / 0\n",
        "except ZeroDivisionError:\n",
        "    logging.error(\"Division by zero error occurred\")"
      ],
      "metadata": {
        "colab": {
          "base_uri": "https://localhost:8080/"
        },
        "id": "NNElNzZJpJjH",
        "outputId": "1664e22d-e960-449e-f63b-2d27e3c8c09f"
      },
      "execution_count": 29,
      "outputs": [
        {
          "output_type": "stream",
          "name": "stderr",
          "text": [
            "ERROR:root:Division by zero error occurred\n"
          ]
        }
      ]
    },
    {
      "cell_type": "markdown",
      "source": [
        "Q7.How do you log information at different levels (INFO,ERROR,WARNING) in Python using the logging module?"
      ],
      "metadata": {
        "id": "JMoLSaa9q8qx"
      }
    },
    {
      "cell_type": "code",
      "source": [
        "import logging\n",
        "\n",
        "logging.basicConfig(level=logging.INFO)\n",
        "\n",
        "logging.info(\"This is an info message.\")\n",
        "logging.warning(\"This is a warning.\")\n",
        "logging.error(\"This is an error.\")"
      ],
      "metadata": {
        "colab": {
          "base_uri": "https://localhost:8080/"
        },
        "id": "-TOoEWnRpJTp",
        "outputId": "d1690cac-402c-4744-88f9-917305b253bd"
      },
      "execution_count": 31,
      "outputs": [
        {
          "output_type": "stream",
          "name": "stderr",
          "text": [
            "WARNING:root:This is a warning.\n",
            "ERROR:root:This is an error.\n"
          ]
        }
      ]
    },
    {
      "cell_type": "markdown",
      "source": [
        "Q8.Write aprogram to handle a file opening error using exception handling."
      ],
      "metadata": {
        "id": "DaYr1VA9tfg-"
      }
    },
    {
      "cell_type": "code",
      "source": [
        "try:\n",
        "  with open(\"missing_file.txt\",\"r\") as file:\n",
        "    content = file.read()\n",
        "except FileNotFoundError:\n",
        "  print(\"File not found\")"
      ],
      "metadata": {
        "colab": {
          "base_uri": "https://localhost:8080/"
        },
        "id": "wxtVSEqvpJRK",
        "outputId": "8ac241c6-d8be-444b-8c2e-7757b74787d8"
      },
      "execution_count": 32,
      "outputs": [
        {
          "output_type": "stream",
          "name": "stdout",
          "text": [
            "File not found\n"
          ]
        }
      ]
    },
    {
      "cell_type": "markdown",
      "source": [
        "Q9.How can you read a file line by line and store its content in a list in a Python?"
      ],
      "metadata": {
        "id": "99O5T4oXt9RH"
      }
    },
    {
      "cell_type": "code",
      "source": [
        "with open(\"file.txt\",\"r\") as file:\n",
        "  lines = [line.strip() for line in file]\n",
        "  print(lines)"
      ],
      "metadata": {
        "colab": {
          "base_uri": "https://localhost:8080/"
        },
        "id": "pQWyJu1rpJOc",
        "outputId": "cd2fdb9d-193b-4e1d-f333-7e11d7fc8216"
      },
      "execution_count": 34,
      "outputs": [
        {
          "output_type": "stream",
          "name": "stdout",
          "text": [
            "['Hello World']\n"
          ]
        }
      ]
    },
    {
      "cell_type": "markdown",
      "source": [
        "Q10.How can you append data to an existing file in Python?"
      ],
      "metadata": {
        "id": "h5CBI1Msur51"
      }
    },
    {
      "cell_type": "code",
      "source": [
        "with open(\"output.txt\", \"a\") as file:\n",
        "    file.write(\"\\nThis is the second line appended.\")\n",
        "    print(\"Data appended to output.txt\")"
      ],
      "metadata": {
        "colab": {
          "base_uri": "https://localhost:8080/"
        },
        "id": "pbwA4TZwpJLq",
        "outputId": "c6355527-2d7d-4674-8f6e-7940057b06b3"
      },
      "execution_count": 36,
      "outputs": [
        {
          "output_type": "stream",
          "name": "stdout",
          "text": [
            "Data appended to output.txt\n"
          ]
        }
      ]
    },
    {
      "cell_type": "markdown",
      "source": [
        "Q11.Write a Python program that uses a try-except block to handle an error when attempting to access a dictionary key that doesn't exist."
      ],
      "metadata": {
        "id": "_FgDsyDfvkJ5"
      }
    },
    {
      "cell_type": "code",
      "source": [
        "data = {\"name\": \"John\", \"age\": 30}\n",
        "\n",
        "try:\n",
        "    value = data[\"address\"]\n",
        "except KeyError:\n",
        "    print(\"Error: Key 'address' does not exist in the dictionary.\")"
      ],
      "metadata": {
        "colab": {
          "base_uri": "https://localhost:8080/"
        },
        "id": "0N8lR_zapJE5",
        "outputId": "f3f15117-5480-43c2-adbf-6052b2e74433"
      },
      "execution_count": 37,
      "outputs": [
        {
          "output_type": "stream",
          "name": "stdout",
          "text": [
            "Error: Key 'address' does not exist in the dictionary.\n"
          ]
        }
      ]
    },
    {
      "cell_type": "markdown",
      "source": [
        "Q12.Write a program that demonstrates using multiple except blocks to handle different types of exceptions."
      ],
      "metadata": {
        "id": "CiMwnwQ8wWP7"
      }
    },
    {
      "cell_type": "code",
      "source": [
        "try:\n",
        "    num = int(\"abc\")\n",
        "    result = 10 / 0\n",
        "except ValueError:\n",
        "    print(\"Invalid number format\")\n",
        "except ZeroDivisionError:\n",
        "    print(\"Division by zero\")"
      ],
      "metadata": {
        "colab": {
          "base_uri": "https://localhost:8080/"
        },
        "id": "jReQ2qAIt8tg",
        "outputId": "b426d4ae-e95a-4f77-d068-3b64813e6a8d"
      },
      "execution_count": 38,
      "outputs": [
        {
          "output_type": "stream",
          "name": "stdout",
          "text": [
            "Invalid number format\n"
          ]
        }
      ]
    },
    {
      "cell_type": "markdown",
      "source": [
        "Q13.How would you check if a file exists before attempting to read it in Python?"
      ],
      "metadata": {
        "id": "WeWNDqKW0VA7"
      }
    },
    {
      "cell_type": "code",
      "source": [
        "import os\n",
        "\n",
        "if os.path.exists(\"data.txt\"):\n",
        "    with open(\"data.txt\", \"r\") as file:\n",
        "        content = file.read()\n",
        "        print(content)\n",
        "else:\n",
        "    print(\"File not found\")"
      ],
      "metadata": {
        "colab": {
          "base_uri": "https://localhost:8080/"
        },
        "id": "weBC8DLAt8qo",
        "outputId": "7334661d-7ece-43b3-f08b-e093858fd171"
      },
      "execution_count": 39,
      "outputs": [
        {
          "output_type": "stream",
          "name": "stdout",
          "text": [
            "File not found\n"
          ]
        }
      ]
    },
    {
      "cell_type": "markdown",
      "source": [
        "Q14.Write a program that uses the logging moduled to log both infromational and error messages."
      ],
      "metadata": {
        "id": "hAfO-asE09W0"
      }
    },
    {
      "cell_type": "code",
      "source": [
        "import logging\n",
        "\n",
        "logging.basicConfig(filename=\"app.log\",level=logging.INFO)\n",
        "logging.info(\"Application started\")\n",
        "try:\n",
        "  result = 10 / 0\n",
        "except ZeroDivisionError:\n",
        "  logging.error(\"Division by zero error\")"
      ],
      "metadata": {
        "colab": {
          "base_uri": "https://localhost:8080/"
        },
        "id": "MjnTfwAHt8oC",
        "outputId": "28e417c8-cfa7-42da-ea6e-ba2e515ccda0"
      },
      "execution_count": 40,
      "outputs": [
        {
          "output_type": "stream",
          "name": "stderr",
          "text": [
            "ERROR:root:Division by zero error\n"
          ]
        }
      ]
    },
    {
      "cell_type": "markdown",
      "source": [
        "Q15.Write a Python program that prints the content of a file and handles the case when the file is empty."
      ],
      "metadata": {
        "id": "mJKEynob2cNR"
      }
    },
    {
      "cell_type": "code",
      "source": [
        "with open(\"file.txt\",\"r\") as file:\n",
        "  content = file.read()\n",
        "  if not content:\n",
        "    print(\"File is empty\")\n",
        "  else:\n",
        "    print(content)"
      ],
      "metadata": {
        "colab": {
          "base_uri": "https://localhost:8080/"
        },
        "id": "DRZcDIQft8gW",
        "outputId": "aa31c7ea-54c0-4a03-88a0-baf3de48ef81"
      },
      "execution_count": 44,
      "outputs": [
        {
          "output_type": "stream",
          "name": "stdout",
          "text": [
            "Hello World\n"
          ]
        }
      ]
    },
    {
      "cell_type": "markdown",
      "source": [
        "Q16.Demonstrate how to use memory profiling to check the memory usage of a small program."
      ],
      "metadata": {
        "id": "BvLO9KVU3zo1"
      }
    },
    {
      "cell_type": "code",
      "source": [
        "from memory_profiler import profile\n",
        "\n",
        "@profile\n",
        "def compute():\n",
        "    a = [i for i in range(1000000)]\n",
        "    return sum(a)\n",
        "\n",
        "compute()"
      ],
      "metadata": {
        "colab": {
          "base_uri": "https://localhost:8080/"
        },
        "id": "zSYbPGHWt8dn",
        "outputId": "c0e2107a-7e7f-46b7-8b5b-31c9b753c1bd"
      },
      "execution_count": 52,
      "outputs": [
        {
          "output_type": "stream",
          "name": "stderr",
          "text": [
            "\n",
            "PYDEV DEBUGGER WARNING:\n",
            "sys.settrace() should not be used when the debugger is being used.\n",
            "This may cause the debugger to stop working correctly.\n",
            "If this is needed, please check: \n",
            "http://pydev.blogspot.com/2007/06/why-cant-pydev-debugger-work-with.html\n",
            "to see how to restore the debug tracing back correctly.\n",
            "Call Location:\n",
            "  File \"/usr/local/lib/python3.11/dist-packages/memory_profiler.py\", line 847, in enable\n",
            "    sys.settrace(self.trace_memory_usage)\n",
            "\n"
          ]
        },
        {
          "output_type": "stream",
          "name": "stdout",
          "text": [
            "ERROR: Could not find file <ipython-input-52-e518d5fec7cf>\n",
            "NOTE: %mprun can only be used on functions defined in physical files, and not in the IPython environment.\n"
          ]
        },
        {
          "output_type": "stream",
          "name": "stderr",
          "text": [
            "\n",
            "PYDEV DEBUGGER WARNING:\n",
            "sys.settrace() should not be used when the debugger is being used.\n",
            "This may cause the debugger to stop working correctly.\n",
            "If this is needed, please check: \n",
            "http://pydev.blogspot.com/2007/06/why-cant-pydev-debugger-work-with.html\n",
            "to see how to restore the debug tracing back correctly.\n",
            "Call Location:\n",
            "  File \"/usr/local/lib/python3.11/dist-packages/memory_profiler.py\", line 850, in disable\n",
            "    sys.settrace(self._original_trace_function)\n",
            "\n"
          ]
        },
        {
          "output_type": "execute_result",
          "data": {
            "text/plain": [
              "499999500000"
            ]
          },
          "metadata": {},
          "execution_count": 52
        }
      ]
    },
    {
      "cell_type": "markdown",
      "source": [
        "Q17.Write a program to create and write a list of numbers to a file,one number per line."
      ],
      "metadata": {
        "id": "bys7lfG_7Nb2"
      }
    },
    {
      "cell_type": "code",
      "source": [
        "with open(\"numbers.txt\",\"w\") as file:\n",
        "  for i in range(1,11):\n",
        "    file.write(str(i) + \"\\n\")\n",
        "    print(\"Numbers written to file\")"
      ],
      "metadata": {
        "colab": {
          "base_uri": "https://localhost:8080/"
        },
        "id": "3XCpziV3t8bA",
        "outputId": "047ef580-9b34-4d3d-bf1e-91693823d857"
      },
      "execution_count": 54,
      "outputs": [
        {
          "output_type": "stream",
          "name": "stdout",
          "text": [
            "Numbers written to file\n",
            "Numbers written to file\n",
            "Numbers written to file\n",
            "Numbers written to file\n",
            "Numbers written to file\n",
            "Numbers written to file\n",
            "Numbers written to file\n",
            "Numbers written to file\n",
            "Numbers written to file\n",
            "Numbers written to file\n"
          ]
        }
      ]
    },
    {
      "cell_type": "markdown",
      "source": [
        "Q18.How would you implement a basic logging setup that logs to a file with rotation after 1MB?"
      ],
      "metadata": {
        "id": "f_aC0T11723m"
      }
    },
    {
      "cell_type": "code",
      "source": [
        "import logging\n",
        "from logging.handlers import RotatingFileHandler\n",
        "\n",
        "logger = logging.getLogger(\"my_logger\")\n",
        "logger.setLevel(logging.INFO)\n",
        "\n",
        "handler = RotatingFileHandler(\"app.log\", maxBytes=1000000, backupCount=5)\n",
        "formatter = logging.Formatter(\"%(asctime)s - %(levelname)s - %(message)s\")\n",
        "handler.setFormatter(formatter)\n",
        "\n",
        "for i in range(10):\n",
        "  logger.info(f\"This is line {i}\")"
      ],
      "metadata": {
        "colab": {
          "base_uri": "https://localhost:8080/"
        },
        "id": "Uxa7is6dt8Ya",
        "outputId": "19404ee6-1a27-4f1d-c3c1-a6152696311b"
      },
      "execution_count": 58,
      "outputs": [
        {
          "output_type": "stream",
          "name": "stderr",
          "text": [
            "INFO:my_logger:This is line 0\n",
            "INFO:my_logger:This is line 1\n",
            "INFO:my_logger:This is line 2\n",
            "INFO:my_logger:This is line 3\n",
            "INFO:my_logger:This is line 4\n",
            "INFO:my_logger:This is line 5\n",
            "INFO:my_logger:This is line 6\n",
            "INFO:my_logger:This is line 7\n",
            "INFO:my_logger:This is line 8\n",
            "INFO:my_logger:This is line 9\n"
          ]
        }
      ]
    },
    {
      "cell_type": "markdown",
      "source": [
        "Q19.Write a program that handles both IndexError and KeyError using a try-except block."
      ],
      "metadata": {
        "id": "n3TRrQ6X9yY9"
      }
    },
    {
      "cell_type": "code",
      "source": [
        "try:\n",
        "  lst = [1,2]\n",
        "  print(lst[5])\n",
        "  d = {\"name\":\"smriti\"}\n",
        "  print(d[\"age\"])\n",
        "except IndexError:\n",
        "  print(\"Index Error\")\n",
        "except KeyError:\n",
        "  print(\"Key Error\")"
      ],
      "metadata": {
        "colab": {
          "base_uri": "https://localhost:8080/"
        },
        "id": "jYpux2brt8Vj",
        "outputId": "dd7bdd4e-a958-4ccd-f71e-2950dfae148f"
      },
      "execution_count": 59,
      "outputs": [
        {
          "output_type": "stream",
          "name": "stdout",
          "text": [
            "Index Error\n"
          ]
        }
      ]
    },
    {
      "cell_type": "markdown",
      "source": [
        "Q20.How would you open a file and reads its contents using a context manager in Python?"
      ],
      "metadata": {
        "id": "p7RQY6qB-yAW"
      }
    },
    {
      "cell_type": "code",
      "source": [
        "with open (\"file.txt\",\"r\") as file:\n",
        "  content = file.read()\n",
        "  print(content)"
      ],
      "metadata": {
        "colab": {
          "base_uri": "https://localhost:8080/"
        },
        "id": "iztQk1Z3t8TN",
        "outputId": "6bb6ec18-3791-429d-d8a4-8ca349f28a64"
      },
      "execution_count": 64,
      "outputs": [
        {
          "output_type": "stream",
          "name": "stdout",
          "text": [
            "Hello World\n"
          ]
        }
      ]
    },
    {
      "cell_type": "markdown",
      "source": [
        "Q21.Write a python program that reads a file and prints the number of occurences of a specific word."
      ],
      "metadata": {
        "id": "sg3Uj42Y_1sp"
      }
    },
    {
      "cell_type": "code",
      "source": [
        "word_to_count =\"python\"\n",
        "count = 0\n",
        "with open(\"file.txt\",\"r\") as file:\n",
        "  for line in file:\n",
        "    count += line.lower().count(word_to_count.lower())\n",
        "print(f\"The word '{word_to_count}' occurs {count} times in the file.\")"
      ],
      "metadata": {
        "colab": {
          "base_uri": "https://localhost:8080/"
        },
        "id": "Ya5Z6dF4t8Qt",
        "outputId": "f13b48cd-1ad4-4788-a772-518eb5b3a2bf"
      },
      "execution_count": 63,
      "outputs": [
        {
          "output_type": "stream",
          "name": "stdout",
          "text": [
            "The word 'python' occurs 0 times in the file.\n"
          ]
        }
      ]
    },
    {
      "cell_type": "markdown",
      "source": [
        "Q22.How can you check if a file is empty before attempting to read its contents?"
      ],
      "metadata": {
        "id": "sZ7Nk597A3kv"
      }
    },
    {
      "cell_type": "code",
      "source": [
        "import os\n",
        "\n",
        "if os.path.exists(\"file.txt\"):\n",
        "  with open(\"file.txt\",\"r\") as file:\n",
        "    content = file.read()\n",
        "    if not content:\n",
        "      print(\"File is empty\")\n",
        "    else:\n",
        "      print(content)\n",
        "else:\n",
        "  print(\"File not found\")"
      ],
      "metadata": {
        "colab": {
          "base_uri": "https://localhost:8080/"
        },
        "id": "9_YJmJGLt8N_",
        "outputId": "58cb94c3-d090-4c95-d40e-701b1859a517"
      },
      "execution_count": 65,
      "outputs": [
        {
          "output_type": "stream",
          "name": "stdout",
          "text": [
            "Hello World\n"
          ]
        }
      ]
    },
    {
      "cell_type": "markdown",
      "source": [
        "Q23.Write a python program that writes to a log  file when an error occurs during file handling."
      ],
      "metadata": {
        "id": "biADkFkeCFVa"
      }
    },
    {
      "cell_type": "code",
      "source": [
        "import logging\n",
        "\n",
        "logging.basicConfig(filename=\"error_log.txt\", level=logging.ERROR)\n",
        "\n",
        "try:\n",
        "    with open(\"nonexistent_file.txt\", \"r\") as file:\n",
        "        content = file.read()\n",
        "except FileNotFoundError:\n",
        "    logging.error(\"File not found: nonexistent_file.txt\")"
      ],
      "metadata": {
        "colab": {
          "base_uri": "https://localhost:8080/"
        },
        "id": "-7K4gjTat8LZ",
        "outputId": "49ee01df-e263-4e90-eec9-c429dd334674"
      },
      "execution_count": 66,
      "outputs": [
        {
          "output_type": "stream",
          "name": "stderr",
          "text": [
            "ERROR:root:File not found: nonexistent_file.txt\n"
          ]
        }
      ]
    }
  ]
}